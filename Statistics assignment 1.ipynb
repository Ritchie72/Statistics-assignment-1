{
 "cells": [
  {
   "cell_type": "markdown",
   "id": "9b1f4ee1",
   "metadata": {},
   "source": [
    "# Q1. What is Statistics?"
   ]
  },
  {
   "cell_type": "markdown",
   "id": "25fa86b0",
   "metadata": {},
   "source": [
    "Statistics is a science of collecting,organizing and analyzing the data"
   ]
  },
  {
   "cell_type": "markdown",
   "id": "f3e3f368",
   "metadata": {},
   "source": [
    "# Q2. Define the different types of statistics and give an example of when each type might be used."
   ]
  },
  {
   "cell_type": "markdown",
   "id": "7a544a7a",
   "metadata": {},
   "source": [
    "There are 2 types of statistics 1]Inferential 2]Discriptive"
   ]
  },
  {
   "cell_type": "markdown",
   "id": "010e1c45",
   "metadata": {},
   "source": [
    "1] Inferential statistics: It consist of using data you have measured to form conclusion. The inferences over the whole population is drawn by studying the sample data. inferential statistics can be used to determine if a new drug is effective by testing it on a sample of patients and drawing conclusions about the larger population."
   ]
  },
  {
   "cell_type": "markdown",
   "id": "893d40f2",
   "metadata": {},
   "source": [
    "2] Discriptive Statistics: It consist of organizing and summarizing the data.\n",
    "descriptive statistics can be used to summarize the average income of a population."
   ]
  },
  {
   "cell_type": "markdown",
   "id": "799ccab6",
   "metadata": {},
   "source": [
    "# Q3. What are the different types of data and how do they differ from each other? Provide an example of each type of data."
   ]
  },
  {
   "cell_type": "markdown",
   "id": "e55e0fe8",
   "metadata": {},
   "source": [
    "Quantitaive: Quantitative data consists of numerical values and can be further divided into two subcategories:\n",
    "\n",
    "Discrete Data: Discrete data represents whole numbers or counts and cannot take on values between those numbers. Examples include the number of students in a class.\n",
    "Continuous Data: Continuous data represents measurements that can take any value within a range. Examples include temperature readings, height, weight.\n"
   ]
  },
  {
   "cell_type": "markdown",
   "id": "aba782dc",
   "metadata": {},
   "source": [
    "Categorical Data: Categorical data represents qualities, characteristics, or attributes that fall into distinct categories or groups. It can be further divided into two subcategories:\n",
    "\n",
    "Nominal Data: Nominal data represents categories without any inherent order or ranking. Examples include gender (male/female).\n",
    "Ordinal Data: Ordinal data represents categories with a specific order or ranking. The categories have a relative value or rank assigned to them but do not have a standardized interval. Examples include educational levels (high school, college, graduate), rating scales (1-star, 2-star, 3-star)."
   ]
  },
  {
   "cell_type": "markdown",
   "id": "be004f22",
   "metadata": {},
   "source": [
    "# Q4. Categorise the following datasets with respect to quantitative and qualitative data types:"
   ]
  },
  {
   "cell_type": "markdown",
   "id": "5def9b8b",
   "metadata": {},
   "source": [
    "(i) Grading in exam: A+, A, B+, B, C+, C, D, E  ANS: Ordinal"
   ]
  },
  {
   "cell_type": "markdown",
   "id": "1a2c71a9",
   "metadata": {},
   "source": [
    "(ii) Colour of mangoes: yellow, green, orange, red  ANS: Nominal"
   ]
  },
  {
   "cell_type": "markdown",
   "id": "d60117e3",
   "metadata": {},
   "source": [
    "(iii) Height data of a class: [178.9, 179, 179.5, 176, 177.2, 178.3, 175.8,...]           ANS: Quantitative(Cnotinous)"
   ]
  },
  {
   "cell_type": "markdown",
   "id": "220b2901",
   "metadata": {},
   "source": [
    "(iv) Number of mangoes exported by a farm: [500, 600, 478, 672, ...]   ANS: Quantitative(Discrete)"
   ]
  },
  {
   "cell_type": "markdown",
   "id": "b461d6c8",
   "metadata": {},
   "source": [
    "# Q5. Explain the concept of levels of measurement and give an example of a variable for each level."
   ]
  },
  {
   "cell_type": "markdown",
   "id": "b70ea468",
   "metadata": {},
   "source": [
    "Levels of measurement, also known as scales of measurement or data types, categorize variables into different levels based on the nature and characteristics of the data. There are four commonly recognized levels of measurement: nominal, ordinal,interval and ratio."
   ]
  },
  {
   "cell_type": "markdown",
   "id": "d74c6211",
   "metadata": {},
   "source": [
    "1] Nominal level:  Variables at this level are qualitative and can be described by labels or names.Eye color is a nominal variable. The categories can be \"blue,\" \"green,\" \"brown,\" etc."
   ]
  },
  {
   "cell_type": "markdown",
   "id": "8ac02b60",
   "metadata": {},
   "source": [
    "2] Ordinal level: The ordinal level represents data that have an inherent order or ranking between categories. Example: Educational attainment is an ordinal variable. The categories can be \"primary school,\" \"high school,\" \"bachelor's degree,\" \"master's degree,\" etc"
   ]
  },
  {
   "cell_type": "markdown",
   "id": "798b5560",
   "metadata": {},
   "source": [
    "3]Interval level:  At the interval level, data have an inherent order, and the differences between values are measurable and consistent. However, there is no true zero point that represents the absence of the variable. Example:the difference between 20°C and 30°C is the same as the difference between 30°C and 40°C. However, a temperature of 0°C doesn't mean there is no temperature; it's just a reference point. This absence of a true zero means we cannot perform meaningful ratios (e.g., one temperature being twice as hot as another)."
   ]
  },
  {
   "cell_type": "markdown",
   "id": "790e5a93",
   "metadata": {},
   "source": [
    "4] Ratio level: At the ratio level, data have an inherent order, the differences between values are measurable and consistent, and there is a meaningful zero point that represents the absence of the variable. Kelvin has a meaningful zero point called absolute zero, where there is no heat energy. Ratios can be calculated, and meaningful comparisons can be made. "
   ]
  },
  {
   "cell_type": "markdown",
   "id": "cc6c397a",
   "metadata": {},
   "source": [
    "# Q6. Why is it important to understand the level of measurement when analyzing data? Provide an example to illustrate your answer"
   ]
  },
  {
   "cell_type": "markdown",
   "id": "1ec71d58",
   "metadata": {},
   "source": [
    "Understanding the level of measurement is important when analyzing data because it determines the appropriate statistical techniques and interpretations. Using the wrong analysis technique can lead to inaccurate results. For example, analyzing a nominal variable with methods designed for interval or ratio variables would yield incorrect conclusions."
   ]
  },
  {
   "cell_type": "markdown",
   "id": "2ff12452",
   "metadata": {},
   "source": [
    "# Q7. How nominal data type is different from ordinal data type."
   ]
  },
  {
   "cell_type": "markdown",
   "id": "20aea12d",
   "metadata": {},
   "source": [
    "Nominal data has no order, while ordinal data has a predefined order or ranking associated with its categories\n"
   ]
  },
  {
   "cell_type": "markdown",
   "id": "06d14f1a",
   "metadata": {},
   "source": [
    "# Q8. Which type of plot can be used to display data in terms of range?"
   ]
  },
  {
   "cell_type": "markdown",
   "id": "a3eede3f",
   "metadata": {},
   "source": [
    "Box and wisker plot"
   ]
  },
  {
   "cell_type": "markdown",
   "id": "8c52c9ad",
   "metadata": {},
   "source": [
    "# Q9. Describe the difference between descriptive and inferential statistics. Give an example of each type of statistics and explain how they are used."
   ]
  },
  {
   "cell_type": "markdown",
   "id": "0d69ab5d",
   "metadata": {},
   "source": [
    "Descriptive statistics: Collect and summarize within a sample or population.\n",
    "Inferential statistics: Use sample data to make broader inferences and predictions about a larger population."
   ]
  },
  {
   "cell_type": "markdown",
   "id": "14eea99b",
   "metadata": {},
   "source": [
    "Descriptive: Let's say you have a dataset of the heights of 100 individuals. Descriptive statistics would involve calculating measures such as the mean height, median height, standard deviation, and creating visualizations like histograms or box plots to understand the distribution of heights. "
   ]
  },
  {
   "cell_type": "markdown",
   "id": "a0a49ef8",
   "metadata": {},
   "source": [
    "Inferential:  Suppose you want to know the average height of all adults in a country. Instead of measuring the height of every individual, you collect a representative sample of 500 adults and calculate their average height. Inferential statistics would involve using techniques such as hypothesis testing and confidence intervals to estimate the population mean height."
   ]
  },
  {
   "cell_type": "markdown",
   "id": "1f3eae72",
   "metadata": {},
   "source": [
    "# Q10. What are some common measures of central tendency and variability used in statistics? Explain how each measure can be used to describe a dataset"
   ]
  },
  {
   "cell_type": "markdown",
   "id": "f2185487",
   "metadata": {},
   "source": [
    "Measures of central Tendencies"
   ]
  },
  {
   "cell_type": "markdown",
   "id": "1319fb7f",
   "metadata": {},
   "source": [
    "1] Mean:  calculated by summing all the values in a dataset and dividing the sum by the total number of values. Mean provides average value of a dataset"
   ]
  },
  {
   "cell_type": "markdown",
   "id": "e2869a6e",
   "metadata": {},
   "source": [
    "2] Median: The median is the middle value in a sorted dataset. It divides the dataset into two equal halves. It will be useful if we are having an outliner in our sample data."
   ]
  },
  {
   "cell_type": "markdown",
   "id": "b14fa324",
   "metadata": {},
   "source": [
    "3] Mode: The mode is a measure of central tendency that represents the value that occurs most frequently in a dataset. It is the number or category that appears the most times."
   ]
  },
  {
   "cell_type": "markdown",
   "id": "cac7c322",
   "metadata": {},
   "source": [
    "Measure of Variability:"
   ]
  },
  {
   "cell_type": "markdown",
   "id": "3ea02b0d",
   "metadata": {},
   "source": [
    "1] Variance:  provide information about how spread out the values are from the mean. They quantify the variability or dispersion within the dataset"
   ]
  },
  {
   "cell_type": "markdown",
   "id": "e4a499c0",
   "metadata": {},
   "source": [
    "2] Standard deviation: Standard deviation is the square root of the variance and provides a measure of the spread of the data around the mean."
   ]
  }
 ],
 "metadata": {
  "kernelspec": {
   "display_name": "Python 3 (ipykernel)",
   "language": "python",
   "name": "python3"
  },
  "language_info": {
   "codemirror_mode": {
    "name": "ipython",
    "version": 3
   },
   "file_extension": ".py",
   "mimetype": "text/x-python",
   "name": "python",
   "nbconvert_exporter": "python",
   "pygments_lexer": "ipython3",
   "version": "3.10.9"
  }
 },
 "nbformat": 4,
 "nbformat_minor": 5
}
